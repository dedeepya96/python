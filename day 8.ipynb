{
 "cells": [
  {
   "cell_type": "code",
   "execution_count": 16,
   "metadata": {},
   "outputs": [
    {
     "name": "stdout",
     "output_type": "stream",
     "text": [
      "item is found\n"
     ]
    }
   ],
   "source": [
    "def binarysearch(a,lindex,rindex,taritem):\n",
    "    while lindex<=rindex:\n",
    "        mindex=lindex+(rindex-rindex)//2\n",
    "        if(a[mindex]==taritem):\n",
    "            return mindex\n",
    "        if(a[mindex]>taritem):\n",
    "            rindex=mindex-1\n",
    "        else:\n",
    "            lindex=mindex+1\n",
    "    return -1\n",
    "list1=[1,4,9,15,25,45,57,88,98]\n",
    "res=binarysearch(list1,0,4,15)\n",
    "if res!=-1:\n",
    "    print(\"item is found\")\n",
    "else:\n",
    "    print(\"item is not found\")\n"
   ]
  },
  {
   "cell_type": "code",
   "execution_count": 53,
   "metadata": {},
   "outputs": [
    {
     "name": "stdout",
     "output_type": "stream",
     "text": [
      "1 3 6 18 19 25 "
     ]
    }
   ],
   "source": [
    "def bubblesort(a):\n",
    "    for i in range(len(a)-1):\n",
    "        for j in range(len(a)-1):\n",
    "            if a[j]>a[j+1]:\n",
    "               a[j],a[j+1]=a[j+1],a[j]\n",
    "            \n",
    "    for i in range(len(a)):\n",
    "        print(a[i],end=\" \")\n",
    "        \n",
    "list1=[19,1,25,6,18,3]\n",
    "bubblesort(list1)\n",
    "                 "
   ]
  },
  {
   "cell_type": "code",
   "execution_count": 67,
   "metadata": {},
   "outputs": [
    {
     "name": "stdout",
     "output_type": "stream",
     "text": [
      "1 8 8 9 None\n"
     ]
    }
   ],
   "source": [
    "def printdigit(str):\n",
    "    lst=list(str)\n",
    "    for x in range(len(lst)):\n",
    "        if ord(lst[x])>=48 and ord(lst[x])<=57:\n",
    "            print(lst[x], end= \" \")\n",
    "print(printdigit(\"application1889\"))"
   ]
  },
  {
   "cell_type": "code",
   "execution_count": 47,
   "metadata": {},
   "outputs": [
    {
     "name": "stdout",
     "output_type": "stream",
     "text": [
      "application\n",
      "application\n"
     ]
    }
   ],
   "source": [
    "#creating a string\n",
    "str=\"application\"\n",
    "print(str)\n",
    "\n",
    "str1='application'\n",
    "print(str1)\n",
    "\n",
    "str2=\"\"\"application test\n",
    "      working\n",
    "      completed\n",
    "      list\n",
    "      strings\n",
    "      python\"\"\""
   ]
  },
  {
   "cell_type": "code",
   "execution_count": 48,
   "metadata": {},
   "outputs": [
    {
     "name": "stdout",
     "output_type": "stream",
     "text": [
      "application\n",
      "str[0]  = a\n",
      "str[1]  = p\n",
      "str[-3]  = n\n",
      "str[1:5]  = i\n",
      "str[:5]  = ppli\n",
      "str[5:-2] = cati\n",
      "str[::-1] = noitacilppa\n"
     ]
    }
   ],
   "source": [
    "str=\"application\"\n",
    "print(str)\n",
    "print(\"str[0]  =\",str[0])\n",
    "print(\"str[1]  =\",str[1])\n",
    "print(\"str[-3]  =\",str[-1])\n",
    "print(\"str[1:5]  =\",str[-3])\n",
    "print(\"str[:5]  =\",str[1:5])\n",
    "print(\"str[5:-2] =\",str[5:-2])\n",
    "print(\"str[::-1] =\",str[::-1])\n"
   ]
  },
  {
   "cell_type": "code",
   "execution_count": 49,
   "metadata": {},
   "outputs": [
    {
     "name": "stdout",
     "output_type": "stream",
     "text": [
      "False\n",
      "True\n"
     ]
    }
   ],
   "source": [
    "def ispallindrome(s):\n",
    "    if(s==s[::-1]):\n",
    "        return True\n",
    "    else:\n",
    "        return False\n",
    "print(ispallindrome(\"python\"))\n",
    "print(ispallindrome(\"level\"))\n",
    "\n"
   ]
  },
  {
   "cell_type": "code",
   "execution_count": 50,
   "metadata": {},
   "outputs": [
    {
     "name": "stdout",
     "output_type": "stream",
     "text": [
      "2\n",
      "1\n"
     ]
    }
   ],
   "source": [
    "def countuppercase(str):\n",
    "    count=0\n",
    "    lst=list(str)\n",
    "    for x in range(len(lst)):\n",
    "        if ord(lst[x])>=65 and ord(lst[x])<=90:\n",
    "            count =count+1\n",
    "    return count\n",
    "print(countuppercase(\"AApplication\"))\n",
    "print(countuppercase(\"tesT\"))\n"
   ]
  },
  {
   "cell_type": "code",
   "execution_count": 54,
   "metadata": {},
   "outputs": [
    {
     "data": {
      "text/plain": [
       "11"
      ]
     },
     "execution_count": 54,
     "metadata": {},
     "output_type": "execute_result"
    }
   ],
   "source": [
    "def countofchars(str):\n",
    "    return len(str)\n",
    "countofchars(\"application\")"
   ]
  },
  {
   "cell_type": "code",
   "execution_count": 59,
   "metadata": {},
   "outputs": [
    {
     "data": {
      "text/plain": [
       "26"
      ]
     },
     "execution_count": 59,
     "metadata": {},
     "output_type": "execute_result"
    }
   ],
   "source": [
    "def sumofdigits(str):\n",
    "    sum=0\n",
    "    lst=list(str)\n",
    "    for x in range(len(lst)):\n",
    "        if ord(lst[x])>=48 and ord(lst[x])<=57:\n",
    "         sum=sum+ord(lst[x])-48;\n",
    "    return sum\n",
    "sumofdigits(\"application1889\")"
   ]
  },
  {
   "cell_type": "code",
   "execution_count": 66,
   "metadata": {},
   "outputs": [
    {
     "name": "stdout",
     "output_type": "stream",
     "text": [
      "16\n"
     ]
    }
   ],
   "source": [
    "def sumofevendigit(str):\n",
    "    sum=0\n",
    "    lst=list(str)\n",
    "    for x in range(len(lst)):\n",
    "        if ord(lst[x])>=48 and ord(lst[x])<=57:\n",
    "            if(ord(lst[x])%2==0):\n",
    "                sum=sum+ord(lst[x])-48;\n",
    "    return sum\n",
    "print(sumofevendigit(\"application1889\"))"
   ]
  },
  {
   "cell_type": "code",
   "execution_count": null,
   "metadata": {},
   "outputs": [],
   "source": [
    "def caseconversion(str):\n",
    "            \n",
    "    "
   ]
  }
 ],
 "metadata": {
  "kernelspec": {
   "display_name": "Python 3",
   "language": "python",
   "name": "python3"
  },
  "language_info": {
   "codemirror_mode": {
    "name": "ipython",
    "version": 3
   },
   "file_extension": ".py",
   "mimetype": "text/x-python",
   "name": "python",
   "nbconvert_exporter": "python",
   "pygments_lexer": "ipython3",
   "version": "3.7.3"
  }
 },
 "nbformat": 4,
 "nbformat_minor": 2
}
